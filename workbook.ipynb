{
 "cells": [
  {
   "cell_type": "markdown",
   "metadata": {},
   "source": [
    "### Table of Contents:\n",
    "### 1. [Imports](#importing-files)\n",
    "### 2. [Wrangle](#2-wrangle)\n",
    "### 3. [Explore](#explore)\n",
    "3a. [Exploring Continious Distributions](#explore-continious-distributions)\\\n",
    "3b. [Exploring Categorical Distributions](#explore-categorical-distributions)\\\n",
    "3c. [Exploring Correlations](#explore-correlations-with-similar-data)\n",
    "### 4. [Modeling](#modeling)\n",
    "4a. [Determining Baseline](#determining-baseline)\\\n",
    "4b. [Model 1: Logistic Regression](#model-1-logistic-regression)\\\n",
    "4c. [Model 1: Decision Tree](#model-2-decision-tree)\\\n",
    "4d. [Model 1: K Nearest Neighbor](#model-1-k-nearest-neighbor)\n",
    "___\n",
    "    "
   ]
  },
  {
   "cell_type": "markdown",
   "metadata": {},
   "source": [
    "## Importing Files"
   ]
  },
  {
   "cell_type": "code",
   "execution_count": 1,
   "metadata": {},
   "outputs": [],
   "source": [
    "# My .py Modularization Files\n",
    "import env\n",
    "import os\n",
    "import wrangle as w\n",
    "import modeling as m \n",
    "# Ignore Warning\n",
    "import warnings\n",
    "warnings.filterwarnings(\"ignore\")\n",
    "# Array and Dataframes\n",
    "import numpy as np\n",
    "import pandas as pd\n",
    "# Evaluation: Visualization\n",
    "import seaborn as sns\n",
    "import matplotlib.pyplot as plt\n",
    "plt.style.use('fivethirtyeight')\n",
    "# Evaluation: Statistical Analysis\n",
    "from scipy import stats\n",
    "# Modeling: Preprocessing\n",
    "    # Encoder\n",
    "from sklearn.preprocessing import OrdinalEncoder\n",
    "    # Scalers\n",
    "from sklearn.preprocessing import QuantileTransformer, MinMaxScaler, StandardScaler, RobustScaler\n",
    "# Modeling: Feature Selection\n",
    "from sklearn.feature_selection import SelectKBest, f_regression, RFE\n",
    "# Modeling\n",
    "    # OLS - Ordinary Least Squares\n",
    "from sklearn.linear_model import LinearRegression as lr\n",
    "    # LASSO LARS - Least Absolute Shrinkage & Selection Operator |  Least Angle Regression Selection\n",
    "from sklearn.linear_model import LassoLars\n",
    "    # Generalized Linear Model\n",
    "from sklearn.linear_model import TweedieRegressor\n",
    "    # Polynomial\n",
    "from sklearn.preprocessing import PolynomialFeatures\n",
    "# Modeling: Selection\n",
    "    # Splitter\n",
    "from sklearn.model_selection import train_test_split\n",
    "    # Algorithmic Optimization\n",
    "from sklearn.model_selection import GridSearchCV\n",
    "# Metrics\n",
    "from sklearn.metrics import r2_score, mean_squared_error, explained_variance_score"
   ]
  },
  {
   "cell_type": "markdown",
   "metadata": {},
   "source": [
    "___"
   ]
  },
  {
   "cell_type": "markdown",
   "metadata": {},
   "source": [
    "## Wrangle (Acquire & Prepare)\n",
    "*Completed before hand*"
   ]
  },
  {
   "cell_type": "code",
   "execution_count": 2,
   "metadata": {},
   "outputs": [
    {
     "name": "stdout",
     "output_type": "stream",
     "text": [
      "File exists, pulling from system.\n"
     ]
    }
   ],
   "source": [
    "# Pull zillow from MySQL\n",
    "zillow = w.zillow()"
   ]
  },
  {
   "cell_type": "code",
   "execution_count": 3,
   "metadata": {},
   "outputs": [
    {
     "data": {
      "text/html": [
       "<div>\n",
       "<style scoped>\n",
       "    .dataframe tbody tr th:only-of-type {\n",
       "        vertical-align: middle;\n",
       "    }\n",
       "\n",
       "    .dataframe tbody tr th {\n",
       "        vertical-align: top;\n",
       "    }\n",
       "\n",
       "    .dataframe thead th {\n",
       "        text-align: right;\n",
       "    }\n",
       "</style>\n",
       "<table border=\"1\" class=\"dataframe\">\n",
       "  <thead>\n",
       "    <tr style=\"text-align: right;\">\n",
       "      <th></th>\n",
       "      <th>bedroomcnt</th>\n",
       "      <th>bathroomcnt</th>\n",
       "      <th>sq_feet</th>\n",
       "      <th>tax_value</th>\n",
       "      <th>yearbuilt</th>\n",
       "      <th>county</th>\n",
       "      <th>la</th>\n",
       "      <th>orange</th>\n",
       "      <th>ventura</th>\n",
       "    </tr>\n",
       "  </thead>\n",
       "  <tbody>\n",
       "    <tr>\n",
       "      <th>39692</th>\n",
       "      <td>3</td>\n",
       "      <td>2.0</td>\n",
       "      <td>1567</td>\n",
       "      <td>142047</td>\n",
       "      <td>1975</td>\n",
       "      <td>LA</td>\n",
       "      <td>1</td>\n",
       "      <td>0</td>\n",
       "      <td>0</td>\n",
       "    </tr>\n",
       "    <tr>\n",
       "      <th>28281</th>\n",
       "      <td>3</td>\n",
       "      <td>1.0</td>\n",
       "      <td>1571</td>\n",
       "      <td>230000</td>\n",
       "      <td>1953</td>\n",
       "      <td>LA</td>\n",
       "      <td>1</td>\n",
       "      <td>0</td>\n",
       "      <td>0</td>\n",
       "    </tr>\n",
       "    <tr>\n",
       "      <th>42447</th>\n",
       "      <td>2</td>\n",
       "      <td>2.0</td>\n",
       "      <td>1472</td>\n",
       "      <td>290879</td>\n",
       "      <td>1977</td>\n",
       "      <td>Orange</td>\n",
       "      <td>0</td>\n",
       "      <td>1</td>\n",
       "      <td>0</td>\n",
       "    </tr>\n",
       "    <tr>\n",
       "      <th>24601</th>\n",
       "      <td>4</td>\n",
       "      <td>2.0</td>\n",
       "      <td>1781</td>\n",
       "      <td>78023</td>\n",
       "      <td>1948</td>\n",
       "      <td>LA</td>\n",
       "      <td>1</td>\n",
       "      <td>0</td>\n",
       "      <td>0</td>\n",
       "    </tr>\n",
       "    <tr>\n",
       "      <th>33901</th>\n",
       "      <td>2</td>\n",
       "      <td>2.0</td>\n",
       "      <td>1505</td>\n",
       "      <td>65600</td>\n",
       "      <td>1961</td>\n",
       "      <td>LA</td>\n",
       "      <td>1</td>\n",
       "      <td>0</td>\n",
       "      <td>0</td>\n",
       "    </tr>\n",
       "  </tbody>\n",
       "</table>\n",
       "</div>"
      ],
      "text/plain": [
       "       bedroomcnt  bathroomcnt  sq_feet  tax_value  yearbuilt  county  la  \\\n",
       "39692           3          2.0     1567     142047       1975      LA   1   \n",
       "28281           3          1.0     1571     230000       1953      LA   1   \n",
       "42447           2          2.0     1472     290879       1977  Orange   0   \n",
       "24601           4          2.0     1781      78023       1948      LA   1   \n",
       "33901           2          2.0     1505      65600       1961      LA   1   \n",
       "\n",
       "       orange  ventura  \n",
       "39692       0        0  \n",
       "28281       0        0  \n",
       "42447       1        0  \n",
       "24601       0        0  \n",
       "33901       0        0  "
      ]
     },
     "execution_count": 3,
     "metadata": {},
     "output_type": "execute_result"
    }
   ],
   "source": [
    "# Preview\n",
    "zillow.sample(5)"
   ]
  },
  {
   "cell_type": "code",
   "execution_count": 4,
   "metadata": {},
   "outputs": [
    {
     "name": "stdout",
     "output_type": "stream",
     "text": [
      "<class 'pandas.core.frame.DataFrame'>\n",
      "Index: 55736 entries, 4 to 56079\n",
      "Data columns (total 9 columns):\n",
      " #   Column       Non-Null Count  Dtype  \n",
      "---  ------       --------------  -----  \n",
      " 0   bedroomcnt   55736 non-null  int64  \n",
      " 1   bathroomcnt  55736 non-null  float64\n",
      " 2   sq_feet      55736 non-null  int64  \n",
      " 3   tax_value    55736 non-null  int64  \n",
      " 4   yearbuilt    55736 non-null  int64  \n",
      " 5   county       55736 non-null  object \n",
      " 6   la           55736 non-null  int64  \n",
      " 7   orange       55736 non-null  int64  \n",
      " 8   ventura      55736 non-null  int64  \n",
      "dtypes: float64(1), int64(7), object(1)\n",
      "memory usage: 4.3+ MB\n"
     ]
    }
   ],
   "source": [
    "zillow.info()"
   ]
  },
  {
   "cell_type": "code",
   "execution_count": 5,
   "metadata": {},
   "outputs": [
    {
     "data": {
      "text/plain": [
       "(55736, 9)"
      ]
     },
     "execution_count": 5,
     "metadata": {},
     "output_type": "execute_result"
    }
   ],
   "source": [
    "zillow.shape"
   ]
  },
  {
   "cell_type": "code",
   "execution_count": 6,
   "metadata": {},
   "outputs": [
    {
     "data": {
      "text/html": [
       "<div>\n",
       "<style scoped>\n",
       "    .dataframe tbody tr th:only-of-type {\n",
       "        vertical-align: middle;\n",
       "    }\n",
       "\n",
       "    .dataframe tbody tr th {\n",
       "        vertical-align: top;\n",
       "    }\n",
       "\n",
       "    .dataframe thead th {\n",
       "        text-align: right;\n",
       "    }\n",
       "</style>\n",
       "<table border=\"1\" class=\"dataframe\">\n",
       "  <thead>\n",
       "    <tr style=\"text-align: right;\">\n",
       "      <th></th>\n",
       "      <th>Column Name</th>\n",
       "      <th>Number of Unique Values</th>\n",
       "      <th>Unique Values</th>\n",
       "      <th>Number of Null Values</th>\n",
       "      <th>dtype</th>\n",
       "    </tr>\n",
       "  </thead>\n",
       "  <tbody>\n",
       "    <tr>\n",
       "      <th>6</th>\n",
       "      <td>la</td>\n",
       "      <td>2</td>\n",
       "      <td>[1, 0]</td>\n",
       "      <td>0</td>\n",
       "      <td>int64</td>\n",
       "    </tr>\n",
       "    <tr>\n",
       "      <th>7</th>\n",
       "      <td>orange</td>\n",
       "      <td>2</td>\n",
       "      <td>[0, 1]</td>\n",
       "      <td>0</td>\n",
       "      <td>int64</td>\n",
       "    </tr>\n",
       "    <tr>\n",
       "      <th>8</th>\n",
       "      <td>ventura</td>\n",
       "      <td>2</td>\n",
       "      <td>[0, 1]</td>\n",
       "      <td>0</td>\n",
       "      <td>int64</td>\n",
       "    </tr>\n",
       "    <tr>\n",
       "      <th>5</th>\n",
       "      <td>county</td>\n",
       "      <td>3</td>\n",
       "      <td>[LA, Orange, Ventura]</td>\n",
       "      <td>0</td>\n",
       "      <td>object</td>\n",
       "    </tr>\n",
       "    <tr>\n",
       "      <th>0</th>\n",
       "      <td>bedroomcnt</td>\n",
       "      <td>13</td>\n",
       "      <td>[4, 3, 0, 5, 2, 1, 6, 7, 8, 9, 25, 10, 11]</td>\n",
       "      <td>0</td>\n",
       "      <td>int64</td>\n",
       "    </tr>\n",
       "    <tr>\n",
       "      <th>1</th>\n",
       "      <td>bathroomcnt</td>\n",
       "      <td>24</td>\n",
       "      <td>[2.0, 4.0, 0.0, 1.0, 2.5, 3.5, 3.0, 5.5, 4.5, 5.0, 1.5, 7.5, 6.0, 10.0, 8.0, 7.0, 11.0...</td>\n",
       "      <td>0</td>\n",
       "      <td>float64</td>\n",
       "    </tr>\n",
       "    <tr>\n",
       "      <th>4</th>\n",
       "      <td>yearbuilt</td>\n",
       "      <td>133</td>\n",
       "      <td>[2005, 2011, 1926, 1972, 1973, 1960, 1950, 1951, 2016, 2013, 2014, 2015, 2012, 1944, 1...</td>\n",
       "      <td>0</td>\n",
       "      <td>int64</td>\n",
       "    </tr>\n",
       "    <tr>\n",
       "      <th>2</th>\n",
       "      <td>sq_feet</td>\n",
       "      <td>4680</td>\n",
       "      <td>[3633, 1620, 2077, 1200, 171, 203, 1244, 1300, 1222, 4144, 1821, 2684, 2284, 2342, 266...</td>\n",
       "      <td>0</td>\n",
       "      <td>int64</td>\n",
       "    </tr>\n",
       "    <tr>\n",
       "      <th>3</th>\n",
       "      <td>tax_value</td>\n",
       "      <td>43649</td>\n",
       "      <td>[296425, 847770, 646760, 5328, 6920, 14166, 169471, 233266, 290492, 1303522, 537949, 6...</td>\n",
       "      <td>0</td>\n",
       "      <td>int64</td>\n",
       "    </tr>\n",
       "  </tbody>\n",
       "</table>\n",
       "</div>"
      ],
      "text/plain": [
       "   Column Name  Number of Unique Values  \\\n",
       "6           la                        2   \n",
       "7       orange                        2   \n",
       "8      ventura                        2   \n",
       "5       county                        3   \n",
       "0   bedroomcnt                       13   \n",
       "1  bathroomcnt                       24   \n",
       "4    yearbuilt                      133   \n",
       "2      sq_feet                     4680   \n",
       "3    tax_value                    43649   \n",
       "\n",
       "                                                                               Unique Values  \\\n",
       "6                                                                                     [1, 0]   \n",
       "7                                                                                     [0, 1]   \n",
       "8                                                                                     [0, 1]   \n",
       "5                                                                      [LA, Orange, Ventura]   \n",
       "0                                                 [4, 3, 0, 5, 2, 1, 6, 7, 8, 9, 25, 10, 11]   \n",
       "1  [2.0, 4.0, 0.0, 1.0, 2.5, 3.5, 3.0, 5.5, 4.5, 5.0, 1.5, 7.5, 6.0, 10.0, 8.0, 7.0, 11.0...   \n",
       "4  [2005, 2011, 1926, 1972, 1973, 1960, 1950, 1951, 2016, 2013, 2014, 2015, 2012, 1944, 1...   \n",
       "2  [3633, 1620, 2077, 1200, 171, 203, 1244, 1300, 1222, 4144, 1821, 2684, 2284, 2342, 266...   \n",
       "3  [296425, 847770, 646760, 5328, 6920, 14166, 169471, 233266, 290492, 1303522, 537949, 6...   \n",
       "\n",
       "   Number of Null Values    dtype  \n",
       "6                      0    int64  \n",
       "7                      0    int64  \n",
       "8                      0    int64  \n",
       "5                      0   object  \n",
       "0                      0    int64  \n",
       "1                      0  float64  \n",
       "4                      0    int64  \n",
       "2                      0    int64  \n",
       "3                      0    int64  "
      ]
     },
     "execution_count": 6,
     "metadata": {},
     "output_type": "execute_result"
    }
   ],
   "source": [
    "w.summarize(zillow)"
   ]
  },
  {
   "cell_type": "code",
   "execution_count": 7,
   "metadata": {},
   "outputs": [
    {
     "name": "stdout",
     "output_type": "stream",
     "text": [
      "Dataframe: (55736, 9) 100%\n",
      "Train: (35670, 9) | ~60%\n",
      "Validate: (8918, 9) | ~20%\n",
      "Test: (11148, 9) | ~20%\n"
     ]
    }
   ],
   "source": [
    "# seperate data for training, validation and testing\n",
    "train, validate, test = w.splitter(zillow)"
   ]
  },
  {
   "cell_type": "code",
   "execution_count": 8,
   "metadata": {},
   "outputs": [],
   "source": [
    "# view all columns with associated values to observe\n",
    "pd.set_option('display.max_columns', None)"
   ]
  },
  {
   "cell_type": "markdown",
   "metadata": {},
   "source": [
    "___"
   ]
  },
  {
   "cell_type": "markdown",
   "metadata": {},
   "source": [
    "## Explore: Hypothesis\n",
    "- Customers will be less likely to unsubscribe if they have a family (partner dependents) due to the likelihood that the rest of the family will want to resume services.\n",
    "\n",
    "- Customers that are senior citizen may be less likely to utilize multiple services as well as churn due to complications with changing plans.\n",
    "\n",
    "- The longer the customer has been with the company the less likely they are to churn due to ease of services and maybe a grandfathered payment price.\n",
    "\n",
    "- If the customer's bill price is higher than average they be more likely to churn.\n",
    "\n",
    "- The customer's contract plan may be indicative of how long they intend to be with the provider considering this would lower their window to churn.\n",
    "\n",
    "- If the customer pays for additional services they will be less likely to churn, this could be due to satisfaction of the additional services.\n"
   ]
  },
  {
   "cell_type": "markdown",
   "metadata": {},
   "source": [
    "## Explore: Feature Engineer"
   ]
  },
  {
   "cell_type": "code",
   "execution_count": 9,
   "metadata": {},
   "outputs": [],
   "source": [
    "# organize columns is a function to seperate columns from catergorical to numerical data types\n",
    "cat_cols, num_cols = w.organize_columns(train)"
   ]
  },
  {
   "cell_type": "markdown",
   "metadata": {},
   "source": [
    "## Explore: Categorical Distributions"
   ]
  },
  {
   "cell_type": "code",
   "execution_count": 10,
   "metadata": {},
   "outputs": [],
   "source": [
    "# compiling categorical columns\n",
    "cat_cols = train[['county']]"
   ]
  },
  {
   "cell_type": "code",
   "execution_count": 11,
   "metadata": {},
   "outputs": [
    {
     "data": {
      "image/png": "[encoded data removed]",
      "text/plain": [
       "<Figure size 1250x800 with 1 Axes>"
      ]
     },
     "metadata": {},
     "output_type": "display_data"
    },
    {
     "name": "stdout",
     "output_type": "stream",
     "text": [
      "-------------------------------------------------------------\n"
     ]
    }
   ],
   "source": [
    "# Function to loop through desired df and respective columns to visualize \n",
    "w.check_cat_distribution(cat_cols)"
   ]
  },
  {
   "cell_type": "code",
   "execution_count": 45,
   "metadata": {},
   "outputs": [
    {
     "data": {
      "text/plain": [
       "<Axes: xlabel='tax_value', ylabel='Count'>"
      ]
     },
     "execution_count": 45,
     "metadata": {},
     "output_type": "execute_result"
    },
    {
     "data": {
      "image/png": "[encoded data removed]",
      "text/plain": [
       "<Figure size 640x480 with 1 Axes>"
      ]
     },
     "metadata": {},
     "output_type": "display_data"
    }
   ],
   "source": [
    "sns.histplot(data=train.sample(7000),x='tax_value')"
   ]
  },
  {
   "cell_type": "code",
   "execution_count": 12,
   "metadata": {},
   "outputs": [],
   "source": [
    "# Observed irregular distributions in phone_service so conducting\n",
    "# statistical analysis on churn x phone_service"
   ]
  },
  {
   "cell_type": "markdown",
   "metadata": {},
   "source": [
    "**Set null Hypothesis to examine these two features**\n",
    "___\n",
    "\n",
    "Null $H_0$: There is **no** association between churn & phone service\\\n",
    "Null $H_a$: There *is* an association between churn & phone service"
   ]
  },
  {
   "cell_type": "code",
   "execution_count": 13,
   "metadata": {},
   "outputs": [],
   "source": [
    "#m. chi2_test(train['churn'],train['phone_service'])"
   ]
  },
  {
   "cell_type": "markdown",
   "metadata": {},
   "source": [
    "**Set null Hypothesis to examine these two features**\n",
    "___\n",
    "\n",
    "Null $H_0$: There is **no** association between churn & senior citizens\\\n",
    "Null $H_a$: There *is* an association between churn & senior citizens"
   ]
  },
  {
   "cell_type": "code",
   "execution_count": 14,
   "metadata": {},
   "outputs": [],
   "source": [
    "#m.chi2_test(train['churn'],train['senior_citizen'])"
   ]
  },
  {
   "cell_type": "markdown",
   "metadata": {},
   "source": [
    "## Explore: Continious Distributions"
   ]
  },
  {
   "cell_type": "code",
   "execution_count": 15,
   "metadata": {},
   "outputs": [],
   "source": [
    "# compiling continious columns\n",
    "num_cols = train[num_cols]"
   ]
  },
  {
   "cell_type": "code",
   "execution_count": 16,
   "metadata": {},
   "outputs": [],
   "source": [
    "# Loop through respective df and column\n",
    "#w.check_num_distribution(num_cols.sample(500),dataset=train)"
   ]
  },
  {
   "cell_type": "markdown",
   "metadata": {},
   "source": [
    "#### A negative correlation between tenure and churn can be observed"
   ]
  },
  {
   "cell_type": "markdown",
   "metadata": {},
   "source": [
    "## Explore: Correlations with Similar Data"
   ]
  },
  {
   "cell_type": "code",
   "execution_count": 17,
   "metadata": {},
   "outputs": [
    {
     "data": {
      "text/html": [
       "<div>\n",
       "<style scoped>\n",
       "    .dataframe tbody tr th:only-of-type {\n",
       "        vertical-align: middle;\n",
       "    }\n",
       "\n",
       "    .dataframe tbody tr th {\n",
       "        vertical-align: top;\n",
       "    }\n",
       "\n",
       "    .dataframe thead th {\n",
       "        text-align: right;\n",
       "    }\n",
       "</style>\n",
       "<table border=\"1\" class=\"dataframe\">\n",
       "  <thead>\n",
       "    <tr style=\"text-align: right;\">\n",
       "      <th></th>\n",
       "      <th>bedroomcnt</th>\n",
       "      <th>bathroomcnt</th>\n",
       "      <th>sq_feet</th>\n",
       "      <th>tax_value</th>\n",
       "      <th>yearbuilt</th>\n",
       "      <th>county</th>\n",
       "      <th>la</th>\n",
       "      <th>orange</th>\n",
       "      <th>ventura</th>\n",
       "    </tr>\n",
       "  </thead>\n",
       "  <tbody>\n",
       "    <tr>\n",
       "      <th>4</th>\n",
       "      <td>4</td>\n",
       "      <td>2.0</td>\n",
       "      <td>3633</td>\n",
       "      <td>296425</td>\n",
       "      <td>2005</td>\n",
       "      <td>LA</td>\n",
       "      <td>1</td>\n",
       "      <td>0</td>\n",
       "      <td>0</td>\n",
       "    </tr>\n",
       "    <tr>\n",
       "      <th>6</th>\n",
       "      <td>3</td>\n",
       "      <td>4.0</td>\n",
       "      <td>1620</td>\n",
       "      <td>847770</td>\n",
       "      <td>2011</td>\n",
       "      <td>LA</td>\n",
       "      <td>1</td>\n",
       "      <td>0</td>\n",
       "      <td>0</td>\n",
       "    </tr>\n",
       "    <tr>\n",
       "      <th>7</th>\n",
       "      <td>3</td>\n",
       "      <td>2.0</td>\n",
       "      <td>2077</td>\n",
       "      <td>646760</td>\n",
       "      <td>1926</td>\n",
       "      <td>LA</td>\n",
       "      <td>1</td>\n",
       "      <td>0</td>\n",
       "      <td>0</td>\n",
       "    </tr>\n",
       "    <tr>\n",
       "      <th>11</th>\n",
       "      <td>0</td>\n",
       "      <td>0.0</td>\n",
       "      <td>1200</td>\n",
       "      <td>5328</td>\n",
       "      <td>1972</td>\n",
       "      <td>LA</td>\n",
       "      <td>1</td>\n",
       "      <td>0</td>\n",
       "      <td>0</td>\n",
       "    </tr>\n",
       "    <tr>\n",
       "      <th>14</th>\n",
       "      <td>0</td>\n",
       "      <td>0.0</td>\n",
       "      <td>171</td>\n",
       "      <td>6920</td>\n",
       "      <td>1973</td>\n",
       "      <td>LA</td>\n",
       "      <td>1</td>\n",
       "      <td>0</td>\n",
       "      <td>0</td>\n",
       "    </tr>\n",
       "  </tbody>\n",
       "</table>\n",
       "</div>"
      ],
      "text/plain": [
       "    bedroomcnt  bathroomcnt  sq_feet  tax_value  yearbuilt county  la  orange  \\\n",
       "4            4          2.0     3633     296425       2005     LA   1       0   \n",
       "6            3          4.0     1620     847770       2011     LA   1       0   \n",
       "7            3          2.0     2077     646760       1926     LA   1       0   \n",
       "11           0          0.0     1200       5328       1972     LA   1       0   \n",
       "14           0          0.0      171       6920       1973     LA   1       0   \n",
       "\n",
       "    ventura  \n",
       "4         0  \n",
       "6         0  \n",
       "7         0  \n",
       "11        0  \n",
       "14        0  "
      ]
     },
     "execution_count": 17,
     "metadata": {},
     "output_type": "execute_result"
    }
   ],
   "source": [
    "zillow.head()"
   ]
  },
  {
   "cell_type": "code",
   "execution_count": 18,
   "metadata": {},
   "outputs": [
    {
     "data": {
      "image/png": "[encoded data removed]",
      "text/plain": [
       "<Figure size 1000x1000 with 4 Axes>"
      ]
     },
     "metadata": {},
     "output_type": "display_data"
    }
   ],
   "source": [
    "# Clustering correlation grid comparison\n",
    "\n",
    "# Exploring binary categorical data as well as our two continious values -- total_charges & monthly_charges\n",
    "zillow_grid = train[['tax_value','bedroomcnt','bathroomcnt','sq_feet','yearbuilt']]\n",
    "sns_plot = sns.clustermap(zillow_grid.corr(),cmap = 'YlGnBu',annot=True)\n",
    "sns_plot.cax.set_visible(False)\n",
    "plt.show()"
   ]
  },
  {
   "cell_type": "markdown",
   "metadata": {},
   "source": [
    "## Correlation grids help strengthen previous hunches and allow for a better assessment on feature testing\n",
    "- ### Slight correlation between churn_binary and payment_type_electronic_check\n",
    "- ### Stronger correlation between churn_binary and contract_type_month_to_month\n",
    "- ### Negative correlation between churn_binary and tenure\n",
    "- ### Slight correlation between churn_binary and monthly_charges\n",
    "- ### Slight correlation between churn_binary and internet_service_type_fiber_optic"
   ]
  },
  {
   "cell_type": "markdown",
   "metadata": {},
   "source": [
    "**Set null Hypothesis to examine these two features**\n",
    "___\n",
    "\n",
    "Null $H_0$: There is **no** association between *churn* & having a *month-to-month contract*\\\n",
    "Null $H_a$: There *is* an association between *churn* & having a *month-to-month contract*"
   ]
  },
  {
   "cell_type": "code",
   "execution_count": 19,
   "metadata": {},
   "outputs": [],
   "source": [
    "# conduct statistical analysis of churn x contract_type_month_to_month\n",
    "#m.chi2_test(train['churn_binary'],train['contract_type_month_to_month'])"
   ]
  },
  {
   "cell_type": "markdown",
   "metadata": {},
   "source": [
    "**Set null Hypothesis to examine these two features**\n",
    "___\n",
    "\n",
    "Null $H_0$: There is **no** association between *churn* & *payment_type_electronic_check*\\\n",
    "Null $H_a$: There *is* an association between *churn* & *payment_type_electronic_check*"
   ]
  },
  {
   "cell_type": "code",
   "execution_count": 20,
   "metadata": {},
   "outputs": [],
   "source": [
    "#m.chi2_test(train['churn_binary'],train['payment_type_electronic_check'])"
   ]
  },
  {
   "cell_type": "markdown",
   "metadata": {},
   "source": [
    "**Set null Hypothesis to examine these two features**\n",
    "___\n",
    "\n",
    "Null $H_0$: There is **no** association between *churn* & *internet_service_type_fiber_optic*\\\n",
    "Null $H_a$: There *is* an association between *churn* & *internet_service_type_fiber_optic*"
   ]
  },
  {
   "cell_type": "code",
   "execution_count": 21,
   "metadata": {},
   "outputs": [],
   "source": [
    "#m.chi2_test(train['churn_binary'],train['internet_service_type_fiber_optic'])"
   ]
  },
  {
   "cell_type": "markdown",
   "metadata": {},
   "source": [
    "**Set null Hypothesis to examine these two features**\n",
    "___\n",
    "\n",
    "Null $H_0$: There is **no** association between *churn* & *monthly_charges*\\\n",
    "Null $H_a$: There *is* an association between *churn* & *monthly_charges*"
   ]
  },
  {
   "cell_type": "code",
   "execution_count": 22,
   "metadata": {},
   "outputs": [],
   "source": [
    "# train.groupby('churn')['monthly_charges'].mean()\n",
    "\n",
    "# monthly_churned = train[train.churn == 'Yes']['monthly_charges']\n",
    "# monthly_nochurn = train[train.churn == 'No']['monthly_charges']\n"
   ]
  },
  {
   "cell_type": "code",
   "execution_count": 23,
   "metadata": {},
   "outputs": [],
   "source": [
    "# # Set alpha\n",
    "# α = .05\n",
    "# # Assuming equal variance\n",
    "# t_stat, p = stats.ttest_ind(monthly_churned,monthly_nochurn,equal_var=True)\n",
    "# p\n",
    "\n",
    "# m.check_p(p)"
   ]
  },
  {
   "cell_type": "markdown",
   "metadata": {},
   "source": [
    "**Set null Hypothesis to examine these two features**\n",
    "___\n",
    "\n",
    "Null $H_0$: There is **no** association between *churn* & *tenure*\\\n",
    "Null $H_a$: There *is* an association between *churn* & *tenure*"
   ]
  },
  {
   "cell_type": "code",
   "execution_count": 24,
   "metadata": {},
   "outputs": [],
   "source": [
    "# tenure_churned = train[train.churn == 'Yes']['tenure']\n",
    "# tenure_nochurn = train[train.churn == 'No']['tenure']"
   ]
  },
  {
   "cell_type": "code",
   "execution_count": 25,
   "metadata": {},
   "outputs": [],
   "source": [
    "# # Set alpha\n",
    "# α = .05\n",
    "# # Assuming equal variance\n",
    "# t_stat, p = stats.ttest_ind(tenure_churned,tenure_nochurn,equal_var=True)\n",
    "# p\n",
    "\n",
    "# m.check_p(p)"
   ]
  },
  {
   "cell_type": "markdown",
   "metadata": {},
   "source": [
    "# Modeling"
   ]
  },
  {
   "cell_type": "markdown",
   "metadata": {},
   "source": [
    "## Features Selected\n",
    "___\n",
    "- continious - monthly_charges\n",
    "- continious - tenure\n",
    "- categorical - contract_type_month_to_month\n",
    "- categorical - payment_type_electronic_check\n",
    "- categorical - internet_service_type_fiber_optic\n",
    "- categorical - senior_citizen_binary"
   ]
  },
  {
   "cell_type": "markdown",
   "metadata": {},
   "source": [
    "## Determining Baseline"
   ]
  },
  {
   "cell_type": "code",
   "execution_count": 26,
   "metadata": {},
   "outputs": [
    {
     "data": {
      "text/html": [
       "<div>\n",
       "<style scoped>\n",
       "    .dataframe tbody tr th:only-of-type {\n",
       "        vertical-align: middle;\n",
       "    }\n",
       "\n",
       "    .dataframe tbody tr th {\n",
       "        vertical-align: top;\n",
       "    }\n",
       "\n",
       "    .dataframe thead th {\n",
       "        text-align: right;\n",
       "    }\n",
       "</style>\n",
       "<table border=\"1\" class=\"dataframe\">\n",
       "  <thead>\n",
       "    <tr style=\"text-align: right;\">\n",
       "      <th></th>\n",
       "      <th>bedroomcnt</th>\n",
       "      <th>bathroomcnt</th>\n",
       "      <th>sq_feet</th>\n",
       "      <th>tax_value</th>\n",
       "      <th>yearbuilt</th>\n",
       "      <th>county</th>\n",
       "      <th>la</th>\n",
       "      <th>orange</th>\n",
       "      <th>ventura</th>\n",
       "    </tr>\n",
       "  </thead>\n",
       "  <tbody>\n",
       "    <tr>\n",
       "      <th>41368</th>\n",
       "      <td>5</td>\n",
       "      <td>2.5</td>\n",
       "      <td>3204</td>\n",
       "      <td>692400</td>\n",
       "      <td>1976</td>\n",
       "      <td>Orange</td>\n",
       "      <td>0</td>\n",
       "      <td>1</td>\n",
       "      <td>0</td>\n",
       "    </tr>\n",
       "    <tr>\n",
       "      <th>8516</th>\n",
       "      <td>4</td>\n",
       "      <td>2.0</td>\n",
       "      <td>1446</td>\n",
       "      <td>239700</td>\n",
       "      <td>1964</td>\n",
       "      <td>Orange</td>\n",
       "      <td>0</td>\n",
       "      <td>1</td>\n",
       "      <td>0</td>\n",
       "    </tr>\n",
       "    <tr>\n",
       "      <th>44247</th>\n",
       "      <td>4</td>\n",
       "      <td>3.0</td>\n",
       "      <td>1491</td>\n",
       "      <td>246284</td>\n",
       "      <td>1936</td>\n",
       "      <td>LA</td>\n",
       "      <td>1</td>\n",
       "      <td>0</td>\n",
       "      <td>0</td>\n",
       "    </tr>\n",
       "    <tr>\n",
       "      <th>54283</th>\n",
       "      <td>4</td>\n",
       "      <td>3.0</td>\n",
       "      <td>2050</td>\n",
       "      <td>741132</td>\n",
       "      <td>1966</td>\n",
       "      <td>Ventura</td>\n",
       "      <td>0</td>\n",
       "      <td>0</td>\n",
       "      <td>1</td>\n",
       "    </tr>\n",
       "    <tr>\n",
       "      <th>2016</th>\n",
       "      <td>4</td>\n",
       "      <td>2.0</td>\n",
       "      <td>1874</td>\n",
       "      <td>554000</td>\n",
       "      <td>1966</td>\n",
       "      <td>LA</td>\n",
       "      <td>1</td>\n",
       "      <td>0</td>\n",
       "      <td>0</td>\n",
       "    </tr>\n",
       "  </tbody>\n",
       "</table>\n",
       "</div>"
      ],
      "text/plain": [
       "       bedroomcnt  bathroomcnt  sq_feet  tax_value  yearbuilt   county  la  \\\n",
       "41368           5          2.5     3204     692400       1976   Orange   0   \n",
       "8516            4          2.0     1446     239700       1964   Orange   0   \n",
       "44247           4          3.0     1491     246284       1936       LA   1   \n",
       "54283           4          3.0     2050     741132       1966  Ventura   0   \n",
       "2016            4          2.0     1874     554000       1966       LA   1   \n",
       "\n",
       "       orange  ventura  \n",
       "41368       1        0  \n",
       "8516        1        0  \n",
       "44247       0        0  \n",
       "54283       0        1  \n",
       "2016        0        0  "
      ]
     },
     "execution_count": 26,
     "metadata": {},
     "output_type": "execute_result"
    }
   ],
   "source": [
    "train.head()"
   ]
  },
  {
   "cell_type": "code",
   "execution_count": 27,
   "metadata": {},
   "outputs": [],
   "source": [
    "x_train = train[['bedroomcnt','bathroomcnt','sq_feet','yearbuilt','la','orange','ventura']]\n",
    "y_train = train['tax_value']\n",
    "\n",
    "x_validate = validate[['bedroomcnt','bathroomcnt','sq_feet','yearbuilt','la','orange','ventura']]\n",
    "y_validate = validate['tax_value']\n",
    "\n",
    "x_test = test[['bedroomcnt','bathroomcnt','sq_feet','yearbuilt','la','orange','ventura']]\n",
    "y_test = test['tax_value']"
   ]
  },
  {
   "cell_type": "code",
   "execution_count": 28,
   "metadata": {},
   "outputs": [],
   "source": [
    "# Set baseline & array for baseline predictions\n",
    "baseline, baseline_array = m.find_baseline(train, y_train)"
   ]
  },
  {
   "cell_type": "code",
   "execution_count": 29,
   "metadata": {},
   "outputs": [],
   "source": [
    "RMSE, R2 = m.regression_metrics(y_train, baseline_array)"
   ]
  },
  {
   "cell_type": "code",
   "execution_count": 30,
   "metadata": {},
   "outputs": [],
   "source": [
    "metrics_df = m.metrics_dataframe(model='baseline', RMSE=RMSE, R2=R2)"
   ]
  },
  {
   "cell_type": "markdown",
   "metadata": {},
   "source": [
    "## Scale"
   ]
  },
  {
   "cell_type": "code",
   "execution_count": 31,
   "metadata": {},
   "outputs": [],
   "source": [
    "x_train_scaled, x_validate_scaled, x_test_scaled = w.QuickScale(x_train, x_validate, x_test, linear=True, scaler='MinMax')"
   ]
  },
  {
   "cell_type": "markdown",
   "metadata": {},
   "source": [
    "## Finding Best Features"
   ]
  },
  {
   "cell_type": "code",
   "execution_count": 32,
   "metadata": {},
   "outputs": [
    {
     "data": {
      "text/plain": [
       "['bedroomcnt', 'bathroomcnt', 'yearbuilt', 'la', 'orange', 'ventura']"
      ]
     },
     "execution_count": 32,
     "metadata": {},
     "output_type": "execute_result"
    }
   ],
   "source": [
    "best_features = m.rfe(x_train, y_train, model='ols',k=6)\n",
    "best_features"
   ]
  },
  {
   "cell_type": "code",
   "execution_count": 33,
   "metadata": {},
   "outputs": [
    {
     "data": {
      "text/plain": [
       "['bedroomcnt', 'bathroomcnt', 'sq_feet', 'yearbuilt', 'la', 'orange']"
      ]
     },
     "execution_count": 33,
     "metadata": {},
     "output_type": "execute_result"
    }
   ],
   "source": [
    "k_features = m.select_kbest(x_train, y_train, k=6)\n",
    "k_features"
   ]
  },
  {
   "cell_type": "markdown",
   "metadata": {},
   "source": [
    "## Model 1: OLS - Ordinary Least Squares"
   ]
  },
  {
   "cell_type": "code",
   "execution_count": 39,
   "metadata": {},
   "outputs": [
    {
     "name": "stdout",
     "output_type": "stream",
     "text": [
      "RMSE: 483825.58115944196\n",
      "R2: 0.4069786842569785\n",
      "Intercept: 4924732.9223620845\n",
      "Coefficient: -127083.76834311901\n"
     ]
    },
    {
     "data": {
      "text/plain": [
       "(array([807147.65145518, 189234.03424187, 352249.8245754 , ...,\n",
       "        279316.19078493, 619387.61893216, 820762.4099125 ]),\n",
       " array([ 77480.50647273, 822973.39137573, 535943.81772043, ...,\n",
       "        314189.00074829, 719743.94225304, 308935.5010458 ]))"
      ]
     },
     "execution_count": 39,
     "metadata": {},
     "output_type": "execute_result"
    }
   ],
   "source": [
    "m.OLS(x_train, y_train, x_validate)"
   ]
  },
  {
   "cell_type": "code",
   "execution_count": 35,
   "metadata": {},
   "outputs": [],
   "source": [
    "ols_rmse = 483825.58115944196\n",
    "ols_r2 = 0.4069786842569785"
   ]
  },
  {
   "cell_type": "code",
   "execution_count": 36,
   "metadata": {},
   "outputs": [
    {
     "data": {
      "text/html": [
       "<div>\n",
       "<style scoped>\n",
       "    .dataframe tbody tr th:only-of-type {\n",
       "        vertical-align: middle;\n",
       "    }\n",
       "\n",
       "    .dataframe tbody tr th {\n",
       "        vertical-align: top;\n",
       "    }\n",
       "\n",
       "    .dataframe thead th {\n",
       "        text-align: right;\n",
       "    }\n",
       "</style>\n",
       "<table border=\"1\" class=\"dataframe\">\n",
       "  <thead>\n",
       "    <tr style=\"text-align: right;\">\n",
       "      <th></th>\n",
       "      <th>model</th>\n",
       "      <th>rmse</th>\n",
       "      <th>r2</th>\n",
       "    </tr>\n",
       "  </thead>\n",
       "  <tbody>\n",
       "    <tr>\n",
       "      <th>0</th>\n",
       "      <td>baseline</td>\n",
       "      <td>628280.636323</td>\n",
       "      <td>0.000000</td>\n",
       "    </tr>\n",
       "    <tr>\n",
       "      <th>1</th>\n",
       "      <td>ols</td>\n",
       "      <td>483825.581159</td>\n",
       "      <td>0.406979</td>\n",
       "    </tr>\n",
       "  </tbody>\n",
       "</table>\n",
       "</div>"
      ],
      "text/plain": [
       "      model           rmse        r2\n",
       "0  baseline  628280.636323  0.000000\n",
       "1       ols  483825.581159  0.406979"
      ]
     },
     "execution_count": 36,
     "metadata": {},
     "output_type": "execute_result"
    }
   ],
   "source": [
    "m.save_metrics(df=metrics_df,model='ols',RMSE=ols_rmse,R2=ols_r2)"
   ]
  }
 ],
 "metadata": {
  "kernelspec": {
   "display_name": "codeup",
   "language": "python",
   "name": "python3"
  },
  "language_info": {
   "codemirror_mode": {
    "name": "ipython",
    "version": 3
   },
   "file_extension": ".py",
   "mimetype": "text/x-python",
   "name": "python",
   "nbconvert_exporter": "python",
   "pygments_lexer": "ipython3",
   "version": "3.11.4"
  },
  "orig_nbformat": 4
 },
 "nbformat": 4,
 "nbformat_minor": 2
}
