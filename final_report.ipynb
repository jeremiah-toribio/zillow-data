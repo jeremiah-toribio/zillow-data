{
 "cells": [
  {
   "cell_type": "markdown",
   "metadata": {},
   "source": [
    "# 🏘️ Zillow Tax"
   ]
  },
  {
   "cell_type": "markdown",
   "metadata": {},
   "source": [
    "## ✔️ Goals:\n",
    "- Explore associations to tax amount and house attributes\n",
    "- Predict the price of a home utilizing regression machine learning models"
   ]
  },
  {
   "cell_type": "markdown",
   "metadata": {},
   "source": [
    "## 📦 Imports"
   ]
  },
  {
   "cell_type": "code",
   "execution_count": 1,
   "metadata": {},
   "outputs": [],
   "source": [
    "# My .py Modularization Files\n",
    "import env\n",
    "import os\n",
    "import wrangle as w\n",
    "import modeling as m \n",
    "# Ignore Warning\n",
    "import warnings\n",
    "warnings.filterwarnings(\"ignore\")\n",
    "# Array and Dataframes\n",
    "import numpy as np\n",
    "import pandas as pd\n",
    "# Evaluation: Visualization\n",
    "import seaborn as sns\n",
    "import matplotlib.pyplot as plt\n",
    "plt.style.use('fivethirtyeight')\n",
    "# Evaluation: Statistical Analysis\n",
    "from scipy import stats\n",
    "# Modeling: Preprocessing\n",
    "    # Encoder\n",
    "from sklearn.preprocessing import OrdinalEncoder\n",
    "    # Scalers\n",
    "from sklearn.preprocessing import QuantileTransformer, MinMaxScaler, StandardScaler, RobustScaler\n",
    "# Modeling: Feature Selection\n",
    "from sklearn.feature_selection import SelectKBest, f_regression, RFE\n",
    "# Modeling\n",
    "    # OLS - Ordinary Least Squares\n",
    "from sklearn.linear_model import LinearRegression as lr\n",
    "    # LASSO LARS - Least Absolute Shrinkage & Selection Operator |  Least Angle Regression Selection\n",
    "from sklearn.linear_model import LassoLars\n",
    "    # Generalized Linear Model\n",
    "from sklearn.linear_model import TweedieRegressor\n",
    "    # Polynomial\n",
    "from sklearn.preprocessing import PolynomialFeatures\n",
    "# Modeling: Selection\n",
    "    # Splitter\n",
    "from sklearn.model_selection import train_test_split\n",
    "    # Algorithmic Optimization\n",
    "from sklearn.model_selection import GridSearchCV\n",
    "# Metrics\n",
    "from sklearn.metrics import r2_score, mean_squared_error, explained_variance_score"
   ]
  },
  {
   "cell_type": "markdown",
   "metadata": {},
   "source": [
    "## 🎣 Acquire\n",
    "\n",
    "- Left joined properties_2017 & predictions_2017\n",
    "- Data had 9 columns and 55736 rows after preparation\n",
    "- Columns are representative of data relative to home attributes\n",
    "- Rows are representative of individual homes and their respective data \n",
    " "
   ]
  },
  {
   "cell_type": "code",
   "execution_count": 2,
   "metadata": {},
   "outputs": [
    {
     "name": "stdout",
     "output_type": "stream",
     "text": [
      "File exists, pulling from system.\n"
     ]
    }
   ],
   "source": [
    "zillow = w.zillow()"
   ]
  },
  {
   "cell_type": "markdown",
   "metadata": {},
   "source": [
    "## 🍱 Prepare\n",
    "- Cleaned null or duplicate data\n",
    "- Encoded multicategorical type data with dummy columns\n",
    "- Dropped all useless dummy columns\n",
    "- Normalized numerical data by dropping extra symbols and spaces, changed type to numeric type\n",
    "- Snake case columns\n",
    "- Split data for training, validate and test (respectively; ~60,~20,~20)"
   ]
  },
  {
   "cell_type": "code",
   "execution_count": 3,
   "metadata": {},
   "outputs": [
    {
     "name": "stdout",
     "output_type": "stream",
     "text": [
      "Dataframe: (55736, 9) 100%\n",
      "Train: (35670, 9) | ~60%\n",
      "Validate: (8918, 9) | ~20%\n",
      "Test: (11148, 9) | ~20%\n"
     ]
    }
   ],
   "source": [
    "train, validate, test = w.splitter(zillow)"
   ]
  },
  {
   "cell_type": "markdown",
   "metadata": {},
   "source": [
    "## 📒 Data Dictionary\n",
    "--- \n",
    "| Feature        | Definition                                   |\n",
    "| ---            | ---                                          |\n",
    "| bedroomcnt     | int; a count of how many bedrooms in the house |\n",
    "| bathroomcnt    | float; a count of how many bathrooms in the house |\n",
    "| sq_feet    | int; the total sq footage of the property |\n",
    "| tax_value        | int; **target** the predetermined tax value assessed off property value |\n",
    "| yearbuilt    | int; the year the respective property was built |\n",
    "| county         | string; the county the property is located in |"
   ]
  },
  {
   "cell_type": "markdown",
   "metadata": {},
   "source": [
    "## 🎞️ Data Preview"
   ]
  },
  {
   "cell_type": "code",
   "execution_count": 8,
   "metadata": {},
   "outputs": [],
   "source": [
    "# view all columns with associated values to observe\n",
    "pd.set_option('display.max_columns', None)"
   ]
  },
  {
   "cell_type": "code",
   "execution_count": 9,
   "metadata": {},
   "outputs": [
    {
     "data": {
      "text/html": [
       "<div>\n",
       "<style scoped>\n",
       "    .dataframe tbody tr th:only-of-type {\n",
       "        vertical-align: middle;\n",
       "    }\n",
       "\n",
       "    .dataframe tbody tr th {\n",
       "        vertical-align: top;\n",
       "    }\n",
       "\n",
       "    .dataframe thead th {\n",
       "        text-align: right;\n",
       "    }\n",
       "</style>\n",
       "<table border=\"1\" class=\"dataframe\">\n",
       "  <thead>\n",
       "    <tr style=\"text-align: right;\">\n",
       "      <th></th>\n",
       "      <th>bedroomcnt</th>\n",
       "      <th>bathroomcnt</th>\n",
       "      <th>sq_feet</th>\n",
       "      <th>tax_value</th>\n",
       "      <th>yearbuilt</th>\n",
       "      <th>county</th>\n",
       "      <th>la</th>\n",
       "      <th>orange</th>\n",
       "      <th>ventura</th>\n",
       "    </tr>\n",
       "  </thead>\n",
       "  <tbody>\n",
       "    <tr>\n",
       "      <th>25756</th>\n",
       "      <td>3</td>\n",
       "      <td>2.0</td>\n",
       "      <td>1268</td>\n",
       "      <td>699506</td>\n",
       "      <td>1924</td>\n",
       "      <td>LA</td>\n",
       "      <td>1</td>\n",
       "      <td>0</td>\n",
       "      <td>0</td>\n",
       "    </tr>\n",
       "    <tr>\n",
       "      <th>21331</th>\n",
       "      <td>4</td>\n",
       "      <td>5.0</td>\n",
       "      <td>4502</td>\n",
       "      <td>1620794</td>\n",
       "      <td>2005</td>\n",
       "      <td>LA</td>\n",
       "      <td>1</td>\n",
       "      <td>0</td>\n",
       "      <td>0</td>\n",
       "    </tr>\n",
       "    <tr>\n",
       "      <th>46979</th>\n",
       "      <td>2</td>\n",
       "      <td>2.0</td>\n",
       "      <td>1209</td>\n",
       "      <td>248947</td>\n",
       "      <td>1949</td>\n",
       "      <td>LA</td>\n",
       "      <td>1</td>\n",
       "      <td>0</td>\n",
       "      <td>0</td>\n",
       "    </tr>\n",
       "    <tr>\n",
       "      <th>16290</th>\n",
       "      <td>2</td>\n",
       "      <td>1.0</td>\n",
       "      <td>1380</td>\n",
       "      <td>456862</td>\n",
       "      <td>1942</td>\n",
       "      <td>LA</td>\n",
       "      <td>1</td>\n",
       "      <td>0</td>\n",
       "      <td>0</td>\n",
       "    </tr>\n",
       "    <tr>\n",
       "      <th>45605</th>\n",
       "      <td>3</td>\n",
       "      <td>2.0</td>\n",
       "      <td>1157</td>\n",
       "      <td>150000</td>\n",
       "      <td>1972</td>\n",
       "      <td>LA</td>\n",
       "      <td>1</td>\n",
       "      <td>0</td>\n",
       "      <td>0</td>\n",
       "    </tr>\n",
       "  </tbody>\n",
       "</table>\n",
       "</div>"
      ],
      "text/plain": [
       "       bedroomcnt  bathroomcnt  sq_feet  tax_value  yearbuilt county  la  \\\n",
       "25756           3          2.0     1268     699506       1924     LA   1   \n",
       "21331           4          5.0     4502    1620794       2005     LA   1   \n",
       "46979           2          2.0     1209     248947       1949     LA   1   \n",
       "16290           2          1.0     1380     456862       1942     LA   1   \n",
       "45605           3          2.0     1157     150000       1972     LA   1   \n",
       "\n",
       "       orange  ventura  \n",
       "25756       0        0  \n",
       "21331       0        0  \n",
       "46979       0        0  \n",
       "16290       0        0  \n",
       "45605       0        0  "
      ]
     },
     "execution_count": 9,
     "metadata": {},
     "output_type": "execute_result"
    }
   ],
   "source": [
    "# random sample of data to examine\n",
    "train.sample(5)"
   ]
  },
  {
   "cell_type": "code",
   "execution_count": 10,
   "metadata": {},
   "outputs": [
    {
     "name": "stdout",
     "output_type": "stream",
     "text": [
      "<class 'pandas.core.frame.DataFrame'>\n",
      "Index: 35670 entries, 41368 to 46060\n",
      "Data columns (total 9 columns):\n",
      " #   Column       Non-Null Count  Dtype  \n",
      "---  ------       --------------  -----  \n",
      " 0   bedroomcnt   35670 non-null  int64  \n",
      " 1   bathroomcnt  35670 non-null  float64\n",
      " 2   sq_feet      35670 non-null  int64  \n",
      " 3   tax_value    35670 non-null  int64  \n",
      " 4   yearbuilt    35670 non-null  int64  \n",
      " 5   county       35670 non-null  object \n",
      " 6   la           35670 non-null  int64  \n",
      " 7   orange       35670 non-null  int64  \n",
      " 8   ventura      35670 non-null  int64  \n",
      "dtypes: float64(1), int64(7), object(1)\n",
      "memory usage: 2.7+ MB\n"
     ]
    }
   ],
   "source": [
    "train.info()"
   ]
  },
  {
   "cell_type": "markdown",
   "metadata": {},
   "source": [
    "## 🧭 Explore"
   ]
  },
  {
   "cell_type": "markdown",
   "metadata": {},
   "source": [
    "### Explore: Feature Engineering"
   ]
  },
  {
   "cell_type": "code",
   "execution_count": 6,
   "metadata": {},
   "outputs": [],
   "source": [
    "# Compiling all additional services into a column that would measure the sum of services subscribed\n",
    "train['additional_services'] = (train[['device_protection','online_security','streaming_movies','streaming_tv','online_backup','tech_support']] == 'Yes').sum(axis=1)\n",
    "validate['additional_services'] = (train[['device_protection','online_security','streaming_movies','streaming_tv','online_backup','tech_support']] == 'Yes').sum(axis=1)\n",
    "test['additional_services'] = (train[['device_protection','online_security','streaming_movies','streaming_tv','online_backup','tech_support']] == 'Yes').sum(axis=1)"
   ]
  },
  {
   "cell_type": "code",
   "execution_count": 7,
   "metadata": {},
   "outputs": [],
   "source": [
    "# Function to loop through desired df and respective columns to visualize\n",
    "cat_cols, num_cols = m.organize_columns(train)\n",
    "# Compiled categorical columns\n",
    "cat_cols = train[cat_cols]"
   ]
  },
  {
   "cell_type": "markdown",
   "metadata": {},
   "source": [
    "## 1. Tax Values visualized and baseline set."
   ]
  },
  {
   "cell_type": "code",
   "execution_count": null,
   "metadata": {},
   "outputs": [],
   "source": []
  },
  {
   "cell_type": "code",
   "execution_count": 18,
   "metadata": {},
   "outputs": [
    {
     "ename": "TypeError",
     "evalue": "plot() got an unexpected keyword argument 'x'",
     "output_type": "error",
     "traceback": [
      "\u001b[0;31m---------------------------------------------------------------------------\u001b[0m",
      "\u001b[0;31mTypeError\u001b[0m                                 Traceback (most recent call last)",
      "Cell \u001b[0;32mIn[18], line 2\u001b[0m\n\u001b[1;32m      1\u001b[0m \u001b[39m# Percentage of customers that churn ( also our baseline prediction, 73.5% )\u001b[39;00m\n\u001b[0;32m----> 2\u001b[0m ax \u001b[39m=\u001b[39m plt\u001b[39m.\u001b[39;49mplot(data\u001b[39m=\u001b[39;49mtrain,x\u001b[39m=\u001b[39;49m\u001b[39m'\u001b[39;49m\u001b[39mtax_value\u001b[39;49m\u001b[39m'\u001b[39;49m,alpha\u001b[39m=\u001b[39;49m\u001b[39m0.8\u001b[39;49m,linewidth\u001b[39m=\u001b[39;49m\u001b[39m.4\u001b[39;49m,edgecolor\u001b[39m=\u001b[39;49m\u001b[39m'\u001b[39;49m\u001b[39mblack\u001b[39;49m\u001b[39m'\u001b[39;49m)\n\u001b[1;32m      3\u001b[0m ax\n",
      "File \u001b[0;32m/opt/homebrew/Caskroom/miniforge/base/envs/codeup/lib/python3.11/site-packages/matplotlib/pyplot.py:2812\u001b[0m, in \u001b[0;36mplot\u001b[0;34m(scalex, scaley, data, *args, **kwargs)\u001b[0m\n\u001b[1;32m   2810\u001b[0m \u001b[39m@_copy_docstring_and_deprecators\u001b[39m(Axes\u001b[39m.\u001b[39mplot)\n\u001b[1;32m   2811\u001b[0m \u001b[39mdef\u001b[39;00m \u001b[39mplot\u001b[39m(\u001b[39m*\u001b[39margs, scalex\u001b[39m=\u001b[39m\u001b[39mTrue\u001b[39;00m, scaley\u001b[39m=\u001b[39m\u001b[39mTrue\u001b[39;00m, data\u001b[39m=\u001b[39m\u001b[39mNone\u001b[39;00m, \u001b[39m*\u001b[39m\u001b[39m*\u001b[39mkwargs):\n\u001b[0;32m-> 2812\u001b[0m     \u001b[39mreturn\u001b[39;00m gca()\u001b[39m.\u001b[39;49mplot(\n\u001b[1;32m   2813\u001b[0m         \u001b[39m*\u001b[39;49margs, scalex\u001b[39m=\u001b[39;49mscalex, scaley\u001b[39m=\u001b[39;49mscaley,\n\u001b[1;32m   2814\u001b[0m         \u001b[39m*\u001b[39;49m\u001b[39m*\u001b[39;49m({\u001b[39m\"\u001b[39;49m\u001b[39mdata\u001b[39;49m\u001b[39m\"\u001b[39;49m: data} \u001b[39mif\u001b[39;49;00m data \u001b[39mis\u001b[39;49;00m \u001b[39mnot\u001b[39;49;00m \u001b[39mNone\u001b[39;49;00m \u001b[39melse\u001b[39;49;00m {}), \u001b[39m*\u001b[39;49m\u001b[39m*\u001b[39;49mkwargs)\n",
      "File \u001b[0;32m/opt/homebrew/Caskroom/miniforge/base/envs/codeup/lib/python3.11/site-packages/matplotlib/axes/_axes.py:1688\u001b[0m, in \u001b[0;36mAxes.plot\u001b[0;34m(self, scalex, scaley, data, *args, **kwargs)\u001b[0m\n\u001b[1;32m   1445\u001b[0m \u001b[39m\u001b[39m\u001b[39m\"\"\"\u001b[39;00m\n\u001b[1;32m   1446\u001b[0m \u001b[39mPlot y versus x as lines and/or markers.\u001b[39;00m\n\u001b[1;32m   1447\u001b[0m \n\u001b[0;32m   (...)\u001b[0m\n\u001b[1;32m   1685\u001b[0m \u001b[39m(``'green'``) or hex strings (``'#008000'``).\u001b[39;00m\n\u001b[1;32m   1686\u001b[0m \u001b[39m\"\"\"\u001b[39;00m\n\u001b[1;32m   1687\u001b[0m kwargs \u001b[39m=\u001b[39m cbook\u001b[39m.\u001b[39mnormalize_kwargs(kwargs, mlines\u001b[39m.\u001b[39mLine2D)\n\u001b[0;32m-> 1688\u001b[0m lines \u001b[39m=\u001b[39m [\u001b[39m*\u001b[39m\u001b[39mself\u001b[39m\u001b[39m.\u001b[39m_get_lines(\u001b[39m*\u001b[39margs, data\u001b[39m=\u001b[39mdata, \u001b[39m*\u001b[39m\u001b[39m*\u001b[39mkwargs)]\n\u001b[1;32m   1689\u001b[0m \u001b[39mfor\u001b[39;00m line \u001b[39min\u001b[39;00m lines:\n\u001b[1;32m   1690\u001b[0m     \u001b[39mself\u001b[39m\u001b[39m.\u001b[39madd_line(line)\n",
      "File \u001b[0;32m/opt/homebrew/Caskroom/miniforge/base/envs/codeup/lib/python3.11/site-packages/matplotlib/axes/_base.py:246\u001b[0m, in \u001b[0;36m_process_plot_var_args.__call__\u001b[0;34m(self, data, *args, **kwargs)\u001b[0m\n\u001b[1;32m    244\u001b[0m \u001b[39mfor\u001b[39;00m pos_only \u001b[39min\u001b[39;00m \u001b[39m\"\u001b[39m\u001b[39mxy\u001b[39m\u001b[39m\"\u001b[39m:\n\u001b[1;32m    245\u001b[0m     \u001b[39mif\u001b[39;00m pos_only \u001b[39min\u001b[39;00m kwargs:\n\u001b[0;32m--> 246\u001b[0m         \u001b[39mraise\u001b[39;00m _api\u001b[39m.\u001b[39mkwarg_error(\u001b[39mself\u001b[39m\u001b[39m.\u001b[39mcommand, pos_only)\n\u001b[1;32m    248\u001b[0m \u001b[39mif\u001b[39;00m \u001b[39mnot\u001b[39;00m args:\n\u001b[1;32m    249\u001b[0m     \u001b[39mreturn\u001b[39;00m\n",
      "\u001b[0;31mTypeError\u001b[0m: plot() got an unexpected keyword argument 'x'"
     ]
    },
    {
     "data": {
      "image/png": "[encoded data removed]",
      "text/plain": [
       "<Figure size 640x480 with 1 Axes>"
      ]
     },
     "metadata": {},
     "output_type": "display_data"
    }
   ],
   "source": [
    "# Percentage of customers that churn ( also our baseline prediction, 73.5% )\n"
   ]
  },
  {
   "cell_type": "markdown",
   "metadata": {},
   "source": [
    "Establish our understanding of target and moving forward with modeling we establish our baseline of *~73.5%* as well as visualize the distribution.\n",
    "---\n",
    "___"
   ]
  },
  {
   "cell_type": "markdown",
   "metadata": {},
   "source": [
    "## 2. The longer the customer has been with the company the less likely they are to churn due to ease of services.\n"
   ]
  },
  {
   "cell_type": "markdown",
   "metadata": {},
   "source": [
    "**Set null Hypothesis to examine these two features**\n",
    "___\n",
    "\n",
    "Null $H_0$: There is **no** association between *churn* & *tenure*\\\n",
    "Null $H_a$: There *is* an association between *churn* & *tenure*"
   ]
  },
  {
   "cell_type": "code",
   "execution_count": 9,
   "metadata": {},
   "outputs": [
    {
     "name": "stdout",
     "output_type": "stream",
     "text": [
      "We can reject the null hypothesis with a p-score of: {5.213539721523729e-130}\n"
     ]
    }
   ],
   "source": [
    "# Masking & defining our desired values\n",
    "tenure_churned = train[train.churn == 'Yes']['tenure']\n",
    "tenure_nochurn = train[train.churn == 'No']['tenure']\n",
    "\n",
    "# Set alpha\n",
    "α = .05\n",
    "# Assuming equal variance\n",
    "t_stat, p = stats.ttest_ind(tenure_churned,tenure_nochurn,equal_var=True)\n",
    "p\n",
    "\n",
    "m.check_p(p)"
   ]
  },
  {
   "cell_type": "code",
   "execution_count": 10,
   "metadata": {},
   "outputs": [
    {
     "data": {
      "image/png": "[encoded data removed]",
      "text/plain": [
       "<Figure size 640x480 with 1 Axes>"
      ]
     },
     "metadata": {},
     "output_type": "display_data"
    }
   ],
   "source": [
    "z = sns.boxplot(data=train,x='churn',y='tenure')\n"
   ]
  },
  {
   "cell_type": "markdown",
   "metadata": {},
   "source": [
    "There is a **negative** correlation to tenure, meaning customers that have been with the company longer are likely to remain.\n",
    "---\n",
    "___"
   ]
  },
  {
   "cell_type": "markdown",
   "metadata": {},
   "source": [
    "## 3. If monthly payments are too high the customer will likely churn, due to seeing the service as too expensive."
   ]
  },
  {
   "cell_type": "markdown",
   "metadata": {},
   "source": [
    "**Set null Hypothesis to examine these two features**\n",
    "___\n",
    "\n",
    "Null $H_0$: There is **no** association between *churn* & *monthly_charges*\\\n",
    "Null $H_a$: There *is* an association between *churn* & *monthly_charges*"
   ]
  },
  {
   "cell_type": "code",
   "execution_count": 11,
   "metadata": {},
   "outputs": [
    {
     "name": "stdout",
     "output_type": "stream",
     "text": [
      "We can reject the null hypothesis with a p-score of: {1.481195740841378e-40}\n"
     ]
    }
   ],
   "source": [
    "train.groupby('churn')['monthly_charges'].mean()\n",
    "\n",
    "monthly_churned = train[train.churn == 'Yes']['monthly_charges']\n",
    "monthly_nochurn = train[train.churn == 'No']['monthly_charges']\n",
    "\n",
    "# Set alpha\n",
    "α = .05\n",
    "# Assuming equal variance\n",
    "t_stat, p = stats.ttest_ind(monthly_churned,monthly_nochurn,equal_var=True)\n",
    "p\n",
    "\n",
    "m.check_p(p)"
   ]
  },
  {
   "cell_type": "code",
   "execution_count": 12,
   "metadata": {},
   "outputs": [
    {
     "data": {
      "image/png": "[encoded data removed]",
      "text/plain": [
       "<Figure size 640x480 with 1 Axes>"
      ]
     },
     "metadata": {},
     "output_type": "display_data"
    }
   ],
   "source": [
    "z = sns.boxplot(data=train,x='churn',y='monthly_charges')"
   ]
  },
  {
   "cell_type": "markdown",
   "metadata": {},
   "source": [
    "The **IQR** (interquartile range) of customers that have churned is noticeably higher than those that have not\\\n",
    "A means comparison T-Test provides statistical evidence that monthly charges could be relative to churn.\n",
    "---\n",
    "___"
   ]
  },
  {
   "cell_type": "markdown",
   "metadata": {},
   "source": [
    "## 4. The customer's contract plan may be indicative of how long they intend to be with the provider considering this would lower their window to churn?"
   ]
  },
  {
   "cell_type": "markdown",
   "metadata": {},
   "source": [
    "**Set null Hypothesis to examine these two features**\n",
    "___\n",
    "\n",
    "Null $H_0$: There is **no** association between *churn* & having a *month-to-month contract*\\\n",
    "Null $H_a$: There *is* an association between *churn* & having a *month-to-month contract*"
   ]
  },
  {
   "cell_type": "code",
   "execution_count": 13,
   "metadata": {},
   "outputs": [
    {
     "name": "stdout",
     "output_type": "stream",
     "text": [
      "We can reject the null hypothesis with a p-score of: {7.035284556920665e-158}\n"
     ]
    },
    {
     "data": {
      "text/html": [
       "<div>\n",
       "<style scoped>\n",
       "    .dataframe tbody tr th:only-of-type {\n",
       "        vertical-align: middle;\n",
       "    }\n",
       "\n",
       "    .dataframe tbody tr th {\n",
       "        vertical-align: top;\n",
       "    }\n",
       "\n",
       "    .dataframe thead th {\n",
       "        text-align: right;\n",
       "    }\n",
       "</style>\n",
       "<table border=\"1\" class=\"dataframe\">\n",
       "  <thead>\n",
       "    <tr style=\"text-align: right;\">\n",
       "      <th>contract_type_month_to_month</th>\n",
       "      <th>0</th>\n",
       "      <th>1</th>\n",
       "    </tr>\n",
       "    <tr>\n",
       "      <th>churn_binary</th>\n",
       "      <th></th>\n",
       "      <th></th>\n",
       "    </tr>\n",
       "  </thead>\n",
       "  <tbody>\n",
       "    <tr>\n",
       "      <th>0</th>\n",
       "      <td>1861</td>\n",
       "      <td>1450</td>\n",
       "    </tr>\n",
       "    <tr>\n",
       "      <th>1</th>\n",
       "      <td>135</td>\n",
       "      <td>1061</td>\n",
       "    </tr>\n",
       "  </tbody>\n",
       "</table>\n",
       "</div>"
      ],
      "text/plain": [
       "contract_type_month_to_month     0     1\n",
       "churn_binary                            \n",
       "0                             1861  1450\n",
       "1                              135  1061"
      ]
     },
     "execution_count": 13,
     "metadata": {},
     "output_type": "execute_result"
    }
   ],
   "source": [
    "# conduct statistical analysis of churn x contract_type_month_to_month\n",
    "m.chi2_test(train['churn_binary'],train['contract_type_month_to_month'])"
   ]
  },
  {
   "cell_type": "code",
   "execution_count": 14,
   "metadata": {},
   "outputs": [
    {
     "data": {
      "image/png": "[encoded data removed]",
      "text/plain": [
       "<Figure size 640x480 with 1 Axes>"
      ]
     },
     "metadata": {},
     "output_type": "display_data"
    }
   ],
   "source": [
    "ax = sns.countplot(data=train,x='contract_type',hue='churn',alpha=0.8,linewidth=.4,edgecolor='black')\n",
    "plt.title('Customer Contract Type')\n",
    "m.without_hue(ax,train.contract_type)"
   ]
  },
  {
   "cell_type": "markdown",
   "metadata": {},
   "source": [
    "There is a **positive** correlation to contract_type_month_to_month, this would be strongly indicative of an association between customer churn and contract type.\n",
    "---\n",
    "___"
   ]
  },
  {
   "cell_type": "markdown",
   "metadata": {},
   "source": [
    "## 5. Customers that are senior citizen may be less likely to churn due to complications with changing plans."
   ]
  },
  {
   "cell_type": "markdown",
   "metadata": {},
   "source": [
    "**Set null Hypothesis to examine these two features**\n",
    "___\n",
    "\n",
    "Null $H_0$: There is **no** association between churn & senior citizens\\\n",
    "Null $H_a$: There *is* an association between churn & senior citizens"
   ]
  },
  {
   "cell_type": "code",
   "execution_count": 15,
   "metadata": {},
   "outputs": [
    {
     "name": "stdout",
     "output_type": "stream",
     "text": [
      "We can reject the null hypothesis with a p-score of: {2.7803174215206096e-25}\n"
     ]
    },
    {
     "data": {
      "text/html": [
       "<div>\n",
       "<style scoped>\n",
       "    .dataframe tbody tr th:only-of-type {\n",
       "        vertical-align: middle;\n",
       "    }\n",
       "\n",
       "    .dataframe tbody tr th {\n",
       "        vertical-align: top;\n",
       "    }\n",
       "\n",
       "    .dataframe thead th {\n",
       "        text-align: right;\n",
       "    }\n",
       "</style>\n",
       "<table border=\"1\" class=\"dataframe\">\n",
       "  <thead>\n",
       "    <tr style=\"text-align: right;\">\n",
       "      <th>senior_citizen</th>\n",
       "      <th>0</th>\n",
       "      <th>1</th>\n",
       "    </tr>\n",
       "    <tr>\n",
       "      <th>churn</th>\n",
       "      <th></th>\n",
       "      <th></th>\n",
       "    </tr>\n",
       "  </thead>\n",
       "  <tbody>\n",
       "    <tr>\n",
       "      <th>No</th>\n",
       "      <td>2888</td>\n",
       "      <td>423</td>\n",
       "    </tr>\n",
       "    <tr>\n",
       "      <th>Yes</th>\n",
       "      <td>888</td>\n",
       "      <td>308</td>\n",
       "    </tr>\n",
       "  </tbody>\n",
       "</table>\n",
       "</div>"
      ],
      "text/plain": [
       "senior_citizen     0    1\n",
       "churn                    \n",
       "No              2888  423\n",
       "Yes              888  308"
      ]
     },
     "execution_count": 15,
     "metadata": {},
     "output_type": "execute_result"
    }
   ],
   "source": [
    "# conduct statistical analysis of churn x senior_citizen\n",
    "m.chi2_test(train['churn'],train['senior_citizen'])"
   ]
  },
  {
   "cell_type": "code",
   "execution_count": 24,
   "metadata": {},
   "outputs": [
    {
     "data": {
      "image/png": "[encoded data removed]",
      "text/plain": [
       "<Figure size 640x480 with 1 Axes>"
      ]
     },
     "metadata": {},
     "output_type": "display_data"
    }
   ],
   "source": [
    "ax = sns.countplot(data=train,x='senior_citizen_p',hue='churn',alpha=0.8,linewidth=.4,edgecolor='black')#,labels=)\n",
    "plt.title('Senior Citizen by Churn')\n",
    "# yes and no for clarification\n",
    "m.without_hue(ax,train.contract_type)"
   ]
  },
  {
   "cell_type": "markdown",
   "metadata": {},
   "source": [
    "There is a **positive** correlation to senior_citizen, this would be indicative of an association between customer churn and senior_citizen, although this does not line up with our hypothesis it is still a feature to consider.\\\n",
    "Chi Squared ($\\chi^2$) test results show that there is a **positive** association between the two \n",
    "features as well\n",
    "---\n",
    "___"
   ]
  },
  {
   "cell_type": "markdown",
   "metadata": {},
   "source": [
    "## 6. Customer internet service plan quality could be a factor in whether a customer decides to stay with the company."
   ]
  },
  {
   "cell_type": "markdown",
   "metadata": {},
   "source": [
    "**Set null Hypothesis to examine these two features**\n",
    "___\n",
    "\n",
    "Null $H_0$: There is **no** association between churn & internet_service_type\\\n",
    "Null $H_a$: There *is* an association between churn & internet_service_type"
   ]
  },
  {
   "cell_type": "code",
   "execution_count": 17,
   "metadata": {},
   "outputs": [
    {
     "name": "stdout",
     "output_type": "stream",
     "text": [
      "We can reject the null hypothesis with a p-score of: {1.6331025637406135e-103}\n"
     ]
    },
    {
     "data": {
      "text/html": [
       "<div>\n",
       "<style scoped>\n",
       "    .dataframe tbody tr th:only-of-type {\n",
       "        vertical-align: middle;\n",
       "    }\n",
       "\n",
       "    .dataframe tbody tr th {\n",
       "        vertical-align: top;\n",
       "    }\n",
       "\n",
       "    .dataframe thead th {\n",
       "        text-align: right;\n",
       "    }\n",
       "</style>\n",
       "<table border=\"1\" class=\"dataframe\">\n",
       "  <thead>\n",
       "    <tr style=\"text-align: right;\">\n",
       "      <th>internet_service_type</th>\n",
       "      <th>DSL</th>\n",
       "      <th>Fiber optic</th>\n",
       "      <th>None</th>\n",
       "    </tr>\n",
       "    <tr>\n",
       "      <th>churn</th>\n",
       "      <th></th>\n",
       "      <th></th>\n",
       "      <th></th>\n",
       "    </tr>\n",
       "  </thead>\n",
       "  <tbody>\n",
       "    <tr>\n",
       "      <th>No</th>\n",
       "      <td>1272</td>\n",
       "      <td>1154</td>\n",
       "      <td>885</td>\n",
       "    </tr>\n",
       "    <tr>\n",
       "      <th>Yes</th>\n",
       "      <td>290</td>\n",
       "      <td>835</td>\n",
       "      <td>71</td>\n",
       "    </tr>\n",
       "  </tbody>\n",
       "</table>\n",
       "</div>"
      ],
      "text/plain": [
       "internet_service_type   DSL  Fiber optic  None\n",
       "churn                                         \n",
       "No                     1272         1154   885\n",
       "Yes                     290          835    71"
      ]
     },
     "execution_count": 17,
     "metadata": {},
     "output_type": "execute_result"
    }
   ],
   "source": [
    "m.chi2_test(train.churn,train.internet_service_type)"
   ]
  },
  {
   "cell_type": "code",
   "execution_count": 33,
   "metadata": {},
   "outputs": [
    {
     "data": {
      "image/png": "[encoded data removed]",
      "text/plain": [
       "<Figure size 640x480 with 1 Axes>"
      ]
     },
     "metadata": {},
     "output_type": "display_data"
    }
   ],
   "source": [
    "ax = sns.countplot(data=train,x='internet_service_type',hue='churn',alpha=0.8,linewidth=.4,edgecolor='black')\n",
    "plt.title('Internet Service Type')\n",
    "m.without_hue(ax,train.contract_type)"
   ]
  },
  {
   "cell_type": "markdown",
   "metadata": {},
   "source": [
    "There is a **positive** correlation to internet_service_type, specifically *fiber optic plans*.\n",
    "---\n",
    "___"
   ]
  },
  {
   "cell_type": "markdown",
   "metadata": {},
   "source": [
    "## ⛏️ Feature Selection\n",
    "- monthly_charges\n",
    "- tenure\n",
    "- contract_type_month_to_month\n",
    "- internet_service_type_fiber_optic\n",
    "- senior_citizen\n",
    "___"
   ]
  },
  {
   "cell_type": "markdown",
   "metadata": {},
   "source": [
    "# 🎼 Modeling\n",
    "Evaluation Metric: **Accuracy**\\\n",
    "Baseline Prediction: **73.5%**\\\n",
    "\\\n",
    "A *baseline prediction* is essentially the closest metric we have to predicting whether a customer will churn, without using a model.\\\n",
    "\\\n",
    "The models that will be used today are (*SKLearn Flavor*):\n",
    "- **K Nearest Neighbor**\n",
    "- **Decision Tree**\n",
    "- **Logistic Regression**\n",
    "\n"
   ]
  },
  {
   "cell_type": "code",
   "execution_count": 19,
   "metadata": {},
   "outputs": [],
   "source": [
    "# Defining feature variables for models\n",
    "x_train = train[['monthly_charges','tenure','contract_type_month_to_month','internet_service_type_fiber_optic','senior_citizen']]\n",
    "y_train = train['churn_binary']\n",
    "y_train = y_train.values.ravel()\n",
    "\n",
    "x_val = validate[['monthly_charges','tenure','contract_type_month_to_month','internet_service_type_fiber_optic','senior_citizen']]\n",
    "y_val = validate['churn_binary']\n",
    "y_val = y_val.values.ravel()\n",
    "\n",
    "x_test = test[['monthly_charges','tenure','contract_type_month_to_month','internet_service_type_fiber_optic','senior_citizen']]\n",
    "y_test = test['churn_binary']\n",
    "y_test = y_test.values.ravel()"
   ]
  },
  {
   "cell_type": "markdown",
   "metadata": {},
   "source": [
    "## 🐴 K Nearest Neighbors"
   ]
  },
  {
   "cell_type": "code",
   "execution_count": 20,
   "metadata": {},
   "outputs": [
    {
     "name": "stdout",
     "output_type": "stream",
     "text": [
      "Best fit \"n_neighbors\" parameter (Determined by GridSearchCV): 28 \n",
      "--------------------------------------\n",
      "Train Class Report & Metrics:      \n",
      "---------------------------------------\n",
      "              precision    recall  f1-score   support\n",
      "\n",
      "           0       0.99      0.99      0.99      3311\n",
      "           1       0.97      0.98      0.97      1196\n",
      "\n",
      "    accuracy                           0.99      4507\n",
      "   macro avg       0.98      0.98      0.98      4507\n",
      "weighted avg       0.99      0.99      0.99      4507\n",
      "\n",
      "Accuracy: 0.985799866873752\n",
      "\n",
      "True Positive Rate/Sensitivity/Recall/Power: 0.9765886287625418\n",
      "False Positive Rate/False Alarm Ratio/Fall-out: 0.010872848082150407\n",
      "True Negative Rate/Specificity/Selectivity: 0.9891271519178496\n",
      "False Negative Rate/Miss Rate: 0.023411371237458192\n",
      "\n",
      "Precision/PPV: 0.9700996677740864\n",
      "F1 Score: 0.9733333333333334\n",
      "\n",
      "Support (0): 1196\n",
      "Support (1): 3311\n",
      "None \n",
      "\n",
      "Test Classificiation Report & Metrics:      \n",
      "--------------------------------------\n",
      "              precision    recall  f1-score   support\n",
      "\n",
      "           0       0.81      0.81      0.81      1035\n",
      "           1       0.47      0.47      0.47       374\n",
      "\n",
      "    accuracy                           0.72      1409\n",
      "   macro avg       0.64      0.64      0.64      1409\n",
      "weighted avg       0.72      0.72      0.72      1409\n",
      "\n",
      "Accuracy: 0.716820440028389\n",
      "\n",
      "True Positive Rate/Sensitivity/Recall/Power: 0.4679144385026738\n",
      "False Positive Rate/False Alarm Ratio/Fall-out: 0.1932367149758454\n",
      "True Negative Rate/Specificity/Selectivity: 0.8067632850241546\n",
      "False Negative Rate/Miss Rate: 0.5320855614973262\n",
      "\n",
      "Precision/PPV: 0.4666666666666667\n",
      "F1 Score: 0.4672897196261682\n",
      "\n",
      "Support (0): 374\n",
      "Support (1): 1035\n",
      "None\n"
     ]
    }
   ],
   "source": [
    "# 🐴 K Nearest Neighbor with optimized results - GridSearchCV did not like\n",
    "m.knn_compiled(x_train,y_train,x_test,y_test)"
   ]
  },
  {
   "cell_type": "code",
   "execution_count": 21,
   "metadata": {},
   "outputs": [],
   "source": [
    "# 🐴 KNN with n_neighbors set to 7 for a more balanced accuracy\n",
    "\n",
    "knn1 = KNeighborsClassifier(n_neighbors=7, weights='uniform')\n",
    "knn1.fit(x_train,y_train)\n",
    "\n",
    "model3_prediction = knn1.predict(x_train)\n",
    "model3_probability = knn1.predict_proba(x_train)\n",
    "\n",
    "model3_prediction_val = knn1.predict(x_val)\n",
    "model3_probability_val = knn1.predict_proba(x_val)\n",
    "\n",
    "model3_prediction_test = knn1.predict(x_test)\n",
    "model3_probability_test = knn1.predict_proba(x_test)"
   ]
  },
  {
   "cell_type": "markdown",
   "metadata": {},
   "source": [
    "## 🌴 Decision Tree"
   ]
  },
  {
   "cell_type": "code",
   "execution_count": 32,
   "metadata": {},
   "outputs": [
    {
     "name": "stdout",
     "output_type": "stream",
     "text": [
      "Accuracy: 0.791213667628134\n",
      "\n",
      "True Positive Rate/Sensitivity/Recall/Power: 0.40217391304347827\n",
      "False Positive Rate/False Alarm Ratio/Fall-out: 0.06825732407127756\n",
      "True Negative Rate/Specificity/Selectivity: 0.9317426759287224\n",
      "False Negative Rate/Miss Rate: 0.5978260869565217\n",
      "\n",
      "Precision/PPV: 0.6803394625176803\n",
      "F1 Score: 0.5055176037834996\n",
      "\n",
      "Support (0): 1196\n",
      "Support (1): 3311\n"
     ]
    }
   ],
   "source": [
    "# 🌴 Decision Tree - if plot=True will return a plotted decision tree\n",
    "m.decision_tree_compiled(x_train, y_train, x_val, y_val, train,plot=False)\n",
    "\n",
    "\n",
    "#print('\\n')\n",
    "#m.decision_tree_compiled(x_val, y_val, validate, plot=False)"
   ]
  },
  {
   "cell_type": "code",
   "execution_count": null,
   "metadata": {},
   "outputs": [
    {
     "data": {
      "text/html": [
       "<div>\n",
       "<style scoped>\n",
       "    .dataframe tbody tr th:only-of-type {\n",
       "        vertical-align: middle;\n",
       "    }\n",
       "\n",
       "    .dataframe tbody tr th {\n",
       "        vertical-align: top;\n",
       "    }\n",
       "\n",
       "    .dataframe thead th {\n",
       "        text-align: right;\n",
       "    }\n",
       "</style>\n",
       "<table border=\"1\" class=\"dataframe\">\n",
       "  <thead>\n",
       "    <tr style=\"text-align: right;\">\n",
       "      <th></th>\n",
       "      <th>precision</th>\n",
       "      <th>recall</th>\n",
       "      <th>f1-score</th>\n",
       "      <th>support</th>\n",
       "    </tr>\n",
       "  </thead>\n",
       "  <tbody>\n",
       "    <tr>\n",
       "      <th>0</th>\n",
       "      <td>0.825655</td>\n",
       "      <td>0.883092</td>\n",
       "      <td>0.853408</td>\n",
       "      <td>1035.000000</td>\n",
       "    </tr>\n",
       "    <tr>\n",
       "      <th>accuracy</th>\n",
       "      <td>0.777147</td>\n",
       "      <td>0.777147</td>\n",
       "      <td>0.777147</td>\n",
       "      <td>0.777147</td>\n",
       "    </tr>\n",
       "    <tr>\n",
       "      <th>weighted avg</th>\n",
       "      <td>0.765582</td>\n",
       "      <td>0.777147</td>\n",
       "      <td>0.769024</td>\n",
       "      <td>1409.000000</td>\n",
       "    </tr>\n",
       "    <tr>\n",
       "      <th>macro avg</th>\n",
       "      <td>0.712496</td>\n",
       "      <td>0.683525</td>\n",
       "      <td>0.694455</td>\n",
       "      <td>1409.000000</td>\n",
       "    </tr>\n",
       "    <tr>\n",
       "      <th>1</th>\n",
       "      <td>0.599338</td>\n",
       "      <td>0.483957</td>\n",
       "      <td>0.535503</td>\n",
       "      <td>374.000000</td>\n",
       "    </tr>\n",
       "  </tbody>\n",
       "</table>\n",
       "</div>"
      ],
      "text/plain": [
       "              precision    recall  f1-score      support\n",
       "0              0.825655  0.883092  0.853408  1035.000000\n",
       "accuracy       0.777147  0.777147  0.777147     0.777147\n",
       "weighted avg   0.765582  0.777147  0.769024  1409.000000\n",
       "macro avg      0.712496  0.683525  0.694455  1409.000000\n",
       "1              0.599338  0.483957  0.535503   374.000000"
      ]
     },
     "execution_count": 47,
     "metadata": {},
     "output_type": "execute_result"
    }
   ],
   "source": [
    "m.get_classification_report(y_test,model3_prediction_test)"
   ]
  },
  {
   "cell_type": "markdown",
   "metadata": {},
   "source": [
    "## 🪵 Logistic Regression"
   ]
  },
  {
   "cell_type": "code",
   "execution_count": null,
   "metadata": {},
   "outputs": [
    {
     "name": "stdout",
     "output_type": "stream",
     "text": [
      "Best fit \"C\" parameter (Determined by GridSearchCV): 0.2\n",
      "Accuracy: 0.7934324384291103\n",
      "\n",
      "True Positive Rate/Sensitivity/Recall/Power: 0.49414715719063546\n",
      "False Positive Rate/False Alarm Ratio/Fall-out: 0.0984596798550287\n",
      "True Negative Rate/Specificity/Selectivity: 0.9015403201449713\n",
      "False Negative Rate/Miss Rate: 0.5058528428093646\n",
      "\n",
      "Precision/PPV: 0.6444929116684842\n",
      "F1 Score: 0.5593942262186465\n",
      "\n",
      "Support (0): 1196\n",
      "Support (1): 3311\n"
     ]
    }
   ],
   "source": [
    "# 🪵 Logistic Regression with Optimized results ()\n",
    "m.log_regression_compiled(x_train,y_train,x_test,y_test)"
   ]
  },
  {
   "cell_type": "markdown",
   "metadata": {},
   "source": [
    "## 🏆 Best Model - Modeling Summary"
   ]
  },
  {
   "cell_type": "markdown",
   "metadata": {},
   "source": [
    "***Logistic regression*** had the best accuracy on <u>test set</u>  with: **79.34%**\n",
    "\n",
    "**Decision Tree**\\\n",
    "Although performed just marginally worst; Decision Tree train set was on par but barely fell behind on test.\\\n",
    "\\\n",
    "**K Nearest Neighbor**\\\n",
    "GridSearchCV (an SKLearn optimization searching tool) heavily favored the train set and heavily overfit with an accuracy of **99%**,\\\n",
    "Heavily underperformed in the test set with **72%**.\\\n",
    "\\\n",
    "This was tested again with a *n_neighbors = 7* to balance but still underperformed with **77%** just barely beating baseline.\n"
   ]
  },
  {
   "cell_type": "markdown",
   "metadata": {},
   "source": [
    "# 🥡 Conclusion / Takeaways\n",
    "\n",
    "## Exploration\n",
    "- Customers churned at a rate of **73.5%**\n",
    "- Month to month contracts is one of the biggest drivers of churn with **23.5%** of all customers churning\n",
    "- **Monthly charges** is seemingly a driver because most customers that churn are **fiber optic** customers, which is the most expensive plan\n",
    "- The interquartile range of tenure in customers that did not churn is exponentially higher than that of customer that did\n",
    "- With **16.2%** of the customers being senior citizens **6.8%** of that have churned\n",
    "- In internet service plans we see **44.1%** of those customers use fiber optic and of that **18.5%** churn\n",
    "\n",
    "## Modeling\n",
    "- Models just merely outperformed baseline, this could be due to lack of data or significant features\n",
    "- A majority of features were no factor\n",
    "\n",
    "## Recommendations\n",
    "- Lean into high paying & long tenure customers\n",
    "- Offer deals for month-to-month contract customers to transition to two-year contracts\n",
    "- Improve senior citizen experience, simplify services - service packages rather than multiple individual services\n",
    "- For every year subscribed, get one free month of service (*regardless of contract type*)- this could make the monthly charges easier to pay\n",
    "\n",
    "## Next Steps\n",
    "- Run other models on same features\n",
    "- Further combine features to see comparisons of churn"
   ]
  },
  {
   "cell_type": "markdown",
   "metadata": {},
   "source": []
  }
 ],
 "metadata": {
  "kernelspec": {
   "display_name": "codeup",
   "language": "python",
   "name": "python3"
  },
  "language_info": {
   "codemirror_mode": {
    "name": "ipython",
    "version": 3
   },
   "file_extension": ".py",
   "mimetype": "text/x-python",
   "name": "python",
   "nbconvert_exporter": "python",
   "pygments_lexer": "ipython3",
   "version": "3.11.4"
  },
  "orig_nbformat": 4
 },
 "nbformat": 4,
 "nbformat_minor": 2
}
